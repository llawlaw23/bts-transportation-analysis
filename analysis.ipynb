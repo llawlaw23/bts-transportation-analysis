{
 "cells": [
  {
   "cell_type": "markdown",
   "id": "30e7b6b0",
   "metadata": {},
   "source": [
    "# Transportation Analysis \n",
    "In this project, I’m exploring transportation data from the Bureau of Transportation Statistics (BTS) to find insights about how people and goods move across the U.S., and where improvements can be made in safety, efficiency, and environmental impact.\n",
    "\n",
    "Because the dataset is quite large, I’ll be analyzing it year by year and comparing the results across different years. To start, I’m focusing on the data for 2020, digging into that year’s trends and patterns before moving on to others.\n",
    "\n",
    "This approach helps keep the analysis manageable and lets us clearly see how transportation dynamics change over time."
   ]
  },
  {
   "cell_type": "code",
   "execution_count": null,
   "id": "19c2f283",
   "metadata": {},
   "outputs": [],
   "source": [
    "import os\n",
    "import pandas as pd\n",
    "import gc"
   ]
  },
  {
   "cell_type": "code",
   "execution_count": null,
   "id": "4f712052",
   "metadata": {},
   "outputs": [],
   "source": [
    "os.makedirs(\"cleaned\", exist_ok=True)"
   ]
  },
  {
   "cell_type": "code",
   "execution_count": null,
   "id": "b005de34",
   "metadata": {},
   "outputs": [],
   "source": [
    "main_folder = \"2020 Dataset\"\n",
    "\n",
    "all_data = []\n",
    "\n",
    "for month_folder in os.listdir(main_folder):\n",
    "    month_path = os.path.join(main_folder, month_folder)\n",
    "    if os.path.isdir(month_path):\n",
    "        for file in os.listdir(month_path):\n",
    "            if file.endswith(\".csv\"):\n",
    "                file_path = os.path.join(month_path, file)\n",
    "                df = pd.read_csv(file_path)\n",
    "                all_data.append(df)\n",
    "\n",
    "Data_2020 = pd.concat(all_data, ignore_index=True)\n"
   ]
  },
  {
   "cell_type": "code",
   "execution_count": null,
   "id": "b4c92b6d",
   "metadata": {},
   "outputs": [],
   "source": [
    "Data_2020.head(5)"
   ]
  },
  {
   "cell_type": "markdown",
   "id": "9b51d62b",
   "metadata": {},
   "source": [
    "## Data Understanding & Preprocessing\n",
    "\n",
    "### 1. Data Overview\n",
    "- Brief description of the dataset (source, purpose, size, number of features, and observations)\n",
    "- Types of variables (numerical, categorical, datetime, etc.)\n",
    "- Initial observations about the data (e.g., imbalance, missing data, outliers)\n",
    "\n",
    "### 2. Data Quality Checks\n",
    "- Check for missing values and filling or dropping them. \n",
    "- dropping columns.\n",
    "- checking for unique values"
   ]
  },
  {
   "cell_type": "code",
   "execution_count": null,
   "id": "f76764b9",
   "metadata": {},
   "outputs": [],
   "source": [
    "Data_2020.shape"
   ]
  },
  {
   "cell_type": "code",
   "execution_count": null,
   "id": "8443974f",
   "metadata": {},
   "outputs": [],
   "source": [
    "Data_2020.isnull().mean().sort_values(ascending=False)"
   ]
  },
  {
   "cell_type": "code",
   "execution_count": null,
   "id": "1f607354",
   "metadata": {},
   "outputs": [],
   "source": [
    "Data_2020_1 = Data_2020.drop(columns=[\"DEPE\", \"MEXSTATE\", \"CANPROV\"])"
   ]
  },
  {
   "cell_type": "code",
   "execution_count": null,
   "id": "54a10e74",
   "metadata": {},
   "outputs": [],
   "source": [
    "Data_2020_1.head(5)"
   ]
  },
  {
   "cell_type": "code",
   "execution_count": null,
   "id": "aa153773",
   "metadata": {},
   "outputs": [],
   "source": [
    "Data_2020_1.isnull().mean().sort_values(ascending=False)"
   ]
  },
  {
   "cell_type": "code",
   "execution_count": null,
   "id": "69f8320e",
   "metadata": {},
   "outputs": [],
   "source": [
    "Data_2020_1[\"DF\"] = Data_2020_1[\"DF\"].fillna(method=\"ffill\")\n"
   ]
  },
  {
   "cell_type": "code",
   "execution_count": null,
   "id": "6d08377d",
   "metadata": {},
   "outputs": [],
   "source": [
    "Data_2020_cleaned = Data_2020_1.dropna()"
   ]
  },
  {
   "cell_type": "code",
   "execution_count": null,
   "id": "dc050ea5",
   "metadata": {},
   "outputs": [],
   "source": [
    "Data_2020_cleaned.head(5)"
   ]
  },
  {
   "cell_type": "markdown",
   "id": "f26d4a03",
   "metadata": {},
   "source": [
    "### Cleaning `CONTCODE` Column\n",
    "\n",
    "The `CONTCODE` column is expected to contain only valid container indicators, typically `'0'` (no container) and `'X'` (container used). However, some rows contain `'1'`, which is invalid or inconsistent with the expected format.  \n",
    "To ensure data quality and consistency, rows where `CONTCODE == '1'` are removed.\n",
    "\n",
    "This step helps prevent inaccurate analysis of container usage patterns by transportation mode."
   ]
  },
  {
   "cell_type": "code",
   "execution_count": null,
   "id": "c539c697",
   "metadata": {},
   "outputs": [],
   "source": [
    "Data_2020_cleaned[\"CONTCODE\"] = Data_2020_cleaned[\"CONTCODE\"].astype(str)\n",
    "\n",
    "Data_2020_cleaned = Data_2020_cleaned[Data_2020_cleaned[\"CONTCODE\"] != '1']\n",
    "\n",
    "print(Data_2020_cleaned[\"CONTCODE\"].unique())\n"
   ]
  },
  {
   "cell_type": "code",
   "execution_count": null,
   "id": "be9a047f",
   "metadata": {},
   "outputs": [],
   "source": [
    "Data_2020_cleaned.shape"
   ]
  },
  {
   "cell_type": "code",
   "execution_count": null,
   "id": "419b7d3c",
   "metadata": {},
   "outputs": [],
   "source": [
    "Data_2020_cleaned.isnull().sum().sum()"
   ]
  },
  {
   "cell_type": "code",
   "execution_count": null,
   "id": "91880c62",
   "metadata": {},
   "outputs": [],
   "source": [
    "Data_2020_cleaned[\"CONTCODE\"] = Data_2020_cleaned[\"CONTCODE\"].astype(\"string\")\n",
    "Data_2020_cleaned.to_parquet(\"cleaned/2020.parquet\", engine = \"pyarrow\", compression = \"snappy\")\n",
    "del Data_2020_cleaned; gc.collect()"
   ]
  },
  {
   "cell_type": "code",
   "execution_count": null,
   "id": "030a1713",
   "metadata": {},
   "outputs": [],
   "source": [
    "main_folder = \"2021 Dataset\"\n",
    "\n",
    "all_data = []\n",
    "\n",
    "for month_folder in os.listdir(main_folder):\n",
    "    month_path = os.path.join(main_folder, month_folder)\n",
    "    if os.path.isdir(month_path):\n",
    "        for file in os.listdir(month_path):\n",
    "            if file.endswith(\".csv\"):\n",
    "                file_path = os.path.join(month_path, file)\n",
    "                df = pd.read_csv(file_path)\n",
    "                all_data.append(df)\n",
    "\n",
    "Data_2021 = pd.concat(all_data, ignore_index=True)"
   ]
  },
  {
   "cell_type": "code",
   "execution_count": null,
   "id": "01d26a17",
   "metadata": {},
   "outputs": [],
   "source": [
    "Data_2021.head(5)"
   ]
  },
  {
   "cell_type": "code",
   "execution_count": null,
   "id": "fe95d5ee",
   "metadata": {},
   "outputs": [],
   "source": [
    "Data_2021.shape"
   ]
  },
  {
   "cell_type": "code",
   "execution_count": null,
   "id": "cbf4d99c",
   "metadata": {},
   "outputs": [],
   "source": [
    "Data_2021.isnull().mean().sort_values(ascending=False)"
   ]
  },
  {
   "cell_type": "code",
   "execution_count": null,
   "id": "f880e084",
   "metadata": {},
   "outputs": [],
   "source": [
    "Data_2021_1 = Data_2021.drop(columns=[\"DEPE\", \"MEXSTATE\", \"CANPROV\"])"
   ]
  },
  {
   "cell_type": "code",
   "execution_count": null,
   "id": "c6868f5c",
   "metadata": {},
   "outputs": [],
   "source": [
    "Data_2021_1.head(5)"
   ]
  },
  {
   "cell_type": "code",
   "execution_count": null,
   "id": "fb98da61",
   "metadata": {},
   "outputs": [],
   "source": [
    "Data_2021_1.shape"
   ]
  },
  {
   "cell_type": "code",
   "execution_count": null,
   "id": "cfdb44bb",
   "metadata": {},
   "outputs": [],
   "source": [
    "Data_2021_1[\"DF\"] = Data_2021_1[\"DF\"].fillna(method=\"ffill\")"
   ]
  },
  {
   "cell_type": "code",
   "execution_count": null,
   "id": "930fdf31",
   "metadata": {},
   "outputs": [],
   "source": [
    "Data_2021_cleaned = Data_2021_1.dropna()"
   ]
  },
  {
   "cell_type": "code",
   "execution_count": null,
   "id": "f079d6a3",
   "metadata": {},
   "outputs": [],
   "source": [
    "Data_2021_cleaned[\"CONTCODE\"] = Data_2021_cleaned[\"CONTCODE\"].astype(str)\n",
    "\n",
    "Data_2021_cleaned = Data_2021_cleaned[Data_2021_cleaned[\"CONTCODE\"] != '1']\n",
    "\n",
    "print(Data_2021_cleaned[\"CONTCODE\"].unique())"
   ]
  },
  {
   "cell_type": "code",
   "execution_count": null,
   "id": "4b8689a1",
   "metadata": {},
   "outputs": [],
   "source": [
    "Data_2021_cleaned.shape"
   ]
  },
  {
   "cell_type": "code",
   "execution_count": null,
   "id": "bee8a35c",
   "metadata": {},
   "outputs": [],
   "source": [
    "Data_2021_cleaned.isnull().sum()"
   ]
  },
  {
   "cell_type": "code",
   "execution_count": null,
   "id": "9343a3fe",
   "metadata": {},
   "outputs": [],
   "source": [
    "Data_2021_cleaned[\"CONTCODE\"] = Data_2021_cleaned[\"CONTCODE\"].astype(\"string\")\n",
    "Data_2021_cleaned.to_parquet(\"cleaned/2021.parquet\", engine = \"pyarrow\", compression = \"snappy\")\n",
    "del Data_2021_cleaned; gc.collect()"
   ]
  },
  {
   "cell_type": "code",
   "execution_count": null,
   "id": "8bcfcb7b",
   "metadata": {},
   "outputs": [],
   "source": [
    "main_folder = \"2022 Dataset\"\n",
    "\n",
    "all_data = []\n",
    "\n",
    "for month_folder in os.listdir(main_folder):\n",
    "    month_path = os.path.join(main_folder, month_folder)\n",
    "    if os.path.isdir(month_path):\n",
    "        for file in os.listdir(month_path):\n",
    "            if file.endswith(\".csv\"):\n",
    "                file_path = os.path.join(month_path, file)\n",
    "                df = pd.read_csv(file_path)\n",
    "                all_data.append(df)\n",
    "\n",
    "Data_2022 = pd.concat(all_data, ignore_index=True)"
   ]
  },
  {
   "cell_type": "code",
   "execution_count": null,
   "id": "e774d5a4",
   "metadata": {},
   "outputs": [],
   "source": [
    "Data_2022.head(5)"
   ]
  },
  {
   "cell_type": "code",
   "execution_count": null,
   "id": "f88632da",
   "metadata": {},
   "outputs": [],
   "source": [
    "Data_2022.shape"
   ]
  },
  {
   "cell_type": "code",
   "execution_count": null,
   "id": "f56d93bd",
   "metadata": {},
   "outputs": [],
   "source": [
    "Data_2022.isnull().mean().sort_values(ascending=False)"
   ]
  },
  {
   "cell_type": "code",
   "execution_count": null,
   "id": "76d92a0a",
   "metadata": {},
   "outputs": [],
   "source": [
    "Data_2022_1 = Data_2022.drop(columns=[\"DEPE\", \"MEXSTATE\", \"CANPROV\"])"
   ]
  },
  {
   "cell_type": "code",
   "execution_count": null,
   "id": "38f9dd5c",
   "metadata": {},
   "outputs": [],
   "source": [
    "Data_2022_1.head(5)"
   ]
  },
  {
   "cell_type": "code",
   "execution_count": null,
   "id": "f39128c4",
   "metadata": {},
   "outputs": [],
   "source": [
    "Data_2022_1.shape"
   ]
  },
  {
   "cell_type": "code",
   "execution_count": null,
   "id": "60b7490c",
   "metadata": {},
   "outputs": [],
   "source": [
    "Data_2022_1[\"DF\"] = Data_2022_1[\"DF\"].fillna(method=\"ffill\")"
   ]
  },
  {
   "cell_type": "code",
   "execution_count": null,
   "id": "14c012c7",
   "metadata": {},
   "outputs": [],
   "source": [
    "Data_2022_cleaned = Data_2022_1.dropna()"
   ]
  },
  {
   "cell_type": "code",
   "execution_count": null,
   "id": "1e51f70c",
   "metadata": {},
   "outputs": [],
   "source": [
    "Data_2022_cleaned[\"CONTCODE\"] = Data_2022_cleaned[\"CONTCODE\"].astype(str)\n",
    "\n",
    "Data_2022_cleaned = Data_2022_cleaned[Data_2022_cleaned[\"CONTCODE\"] != '1']\n",
    "\n",
    "print(Data_2022_cleaned[\"CONTCODE\"].unique())"
   ]
  },
  {
   "cell_type": "code",
   "execution_count": null,
   "id": "abacdead",
   "metadata": {},
   "outputs": [],
   "source": [
    "Data_2022_cleaned.shape"
   ]
  },
  {
   "cell_type": "code",
   "execution_count": null,
   "id": "6b162f6e",
   "metadata": {},
   "outputs": [],
   "source": [
    "Data_2022_cleaned[\"CONTCODE\"] = Data_2022_cleaned[\"CONTCODE\"].astype(\"string\")\n",
    "Data_2022_cleaned.to_parquet(\"cleaned/2022.parquet\", engine = \"pyarrow\", compression = \"snappy\")\n",
    "del Data_2022_cleaned; gc.collect()"
   ]
  },
  {
   "cell_type": "code",
   "execution_count": null,
   "id": "853cc0ef",
   "metadata": {},
   "outputs": [],
   "source": [
    "main_folder = \"2023 Dataset\"\n",
    "\n",
    "all_data = []\n",
    "\n",
    "for month_folder in os.listdir(main_folder):\n",
    "    month_path = os.path.join(main_folder, month_folder)\n",
    "    if os.path.isdir(month_path):\n",
    "        for file in os.listdir(month_path):\n",
    "            if file.endswith(\".csv\"):\n",
    "                file_path = os.path.join(month_path, file)\n",
    "                df = pd.read_csv(file_path)\n",
    "                all_data.append(df)\n",
    "\n",
    "Data_2023 = pd.concat(all_data, ignore_index=True)"
   ]
  },
  {
   "cell_type": "code",
   "execution_count": null,
   "id": "d7cf636c",
   "metadata": {},
   "outputs": [],
   "source": [
    "Data_2023.head(5)"
   ]
  },
  {
   "cell_type": "code",
   "execution_count": null,
   "id": "913961e1",
   "metadata": {},
   "outputs": [],
   "source": [
    "Data_2023.shape"
   ]
  },
  {
   "cell_type": "code",
   "execution_count": null,
   "id": "efb77b29",
   "metadata": {},
   "outputs": [],
   "source": [
    "Data_2023.isnull().mean().sort_values(ascending=False)"
   ]
  },
  {
   "cell_type": "code",
   "execution_count": null,
   "id": "cea27f6e",
   "metadata": {},
   "outputs": [],
   "source": [
    "Data_2023_1 = Data_2023.drop(columns=[\"DEPE\", \"MEXSTATE\", \"CANPROV\"])"
   ]
  },
  {
   "cell_type": "code",
   "execution_count": null,
   "id": "3cb35f97",
   "metadata": {},
   "outputs": [],
   "source": [
    "Data_2023_1.head(5)"
   ]
  },
  {
   "cell_type": "code",
   "execution_count": null,
   "id": "11b83ab1",
   "metadata": {},
   "outputs": [],
   "source": [
    "Data_2023_1.shape"
   ]
  },
  {
   "cell_type": "code",
   "execution_count": null,
   "id": "3b61cf68",
   "metadata": {},
   "outputs": [],
   "source": [
    "Data_2023_1[\"DF\"] = Data_2022_1[\"DF\"].fillna(method=\"ffill\")"
   ]
  },
  {
   "cell_type": "code",
   "execution_count": null,
   "id": "bb0bf9f7",
   "metadata": {},
   "outputs": [],
   "source": [
    "Data_2023_cleaned = Data_2023_1.dropna()"
   ]
  },
  {
   "cell_type": "code",
   "execution_count": null,
   "id": "85a0ee43",
   "metadata": {},
   "outputs": [],
   "source": [
    "Data_2023_cleaned[\"CONTCODE\"] = Data_2023_cleaned[\"CONTCODE\"].astype(str)\n",
    "\n",
    "Data_2023_cleaned = Data_2023_cleaned[Data_2023_cleaned[\"CONTCODE\"] != '1']\n",
    "\n",
    "print(Data_2023_cleaned[\"CONTCODE\"].unique())"
   ]
  },
  {
   "cell_type": "code",
   "execution_count": null,
   "id": "00b7c25c",
   "metadata": {},
   "outputs": [],
   "source": [
    "Data_2023_cleaned.shape"
   ]
  },
  {
   "cell_type": "code",
   "execution_count": null,
   "id": "645d4a6b",
   "metadata": {},
   "outputs": [],
   "source": [
    "Data_2023_cleaned[\"CONTCODE\"] = Data_2023_cleaned[\"CONTCODE\"].astype(\"string\")\n",
    "Data_2023_cleaned.to_parquet(\"cleaned/2023.parquet\", engine = \"pyarrow\", compression = \"snappy\")\n",
    "del Data_2023_cleaned; gc.collect()"
   ]
  },
  {
   "cell_type": "code",
   "execution_count": null,
   "id": "17f3c853",
   "metadata": {},
   "outputs": [],
   "source": [
    "main_folder = \"2024 Dataset\"\n",
    "\n",
    "all_data = []\n",
    "\n",
    "for month_folder in os.listdir(main_folder):\n",
    "    month_path = os.path.join(main_folder, month_folder)\n",
    "    if os.path.isdir(month_path):\n",
    "        for file in os.listdir(month_path):\n",
    "            if file.endswith(\".csv\"):\n",
    "                file_path = os.path.join(month_path, file)\n",
    "                df = pd.read_csv(file_path)\n",
    "                all_data.append(df)\n",
    "\n",
    "Data_2024 = pd.concat(all_data, ignore_index=True)"
   ]
  },
  {
   "cell_type": "code",
   "execution_count": null,
   "id": "236f743e",
   "metadata": {},
   "outputs": [],
   "source": [
    "Data_2024.head(5)"
   ]
  },
  {
   "cell_type": "code",
   "execution_count": null,
   "id": "68e4da78",
   "metadata": {},
   "outputs": [],
   "source": [
    "Data_2024.shape"
   ]
  },
  {
   "cell_type": "code",
   "execution_count": null,
   "id": "47a7e6ab",
   "metadata": {},
   "outputs": [],
   "source": [
    "Data_2024.isnull().mean().sort_values(ascending=False)"
   ]
  },
  {
   "cell_type": "code",
   "execution_count": null,
   "id": "287a04c6",
   "metadata": {},
   "outputs": [],
   "source": [
    "Data_2024_1 = Data_2024.drop(columns=[\"DEPE\", \"MEXSTATE\", \"CANPROV\"])"
   ]
  },
  {
   "cell_type": "code",
   "execution_count": null,
   "id": "7d0d7696",
   "metadata": {},
   "outputs": [],
   "source": [
    "Data_2024_1.head(5)"
   ]
  },
  {
   "cell_type": "code",
   "execution_count": null,
   "id": "a08ec2ab",
   "metadata": {},
   "outputs": [],
   "source": [
    "Data_2024_1.shape"
   ]
  },
  {
   "cell_type": "code",
   "execution_count": null,
   "id": "e6170867",
   "metadata": {},
   "outputs": [],
   "source": [
    "Data_2024_1[\"DF\"] = Data_2024_1[\"DF\"].fillna(method=\"ffill\")"
   ]
  },
  {
   "cell_type": "code",
   "execution_count": null,
   "id": "ef644f51",
   "metadata": {},
   "outputs": [],
   "source": [
    "Data_2024_cleaned = Data_2024_1.dropna()"
   ]
  },
  {
   "cell_type": "code",
   "execution_count": null,
   "id": "0cd8c199",
   "metadata": {},
   "outputs": [],
   "source": [
    "Data_2024_cleaned[\"CONTCODE\"] = Data_2024_cleaned[\"CONTCODE\"].astype(str)\n",
    "\n",
    "Data_2024_cleaned = Data_2024_cleaned[Data_2024_cleaned[\"CONTCODE\"] != '1']\n",
    "\n",
    "print(Data_2024_cleaned[\"CONTCODE\"].unique())"
   ]
  },
  {
   "cell_type": "code",
   "execution_count": null,
   "id": "6725b518",
   "metadata": {},
   "outputs": [],
   "source": [
    "Data_2024_cleaned.shape"
   ]
  },
  {
   "cell_type": "code",
   "execution_count": null,
   "id": "1b30cae5",
   "metadata": {},
   "outputs": [],
   "source": [
    "Data_2024_cleaned[\"CONTCODE\"] = Data_2024_cleaned[\"CONTCODE\"].astype(\"string\")\n",
    "Data_2024_cleaned.to_parquet(\"cleaned/2024.parquet\", engine=\"pyarrow\", compression=\"snappy\")\n",
    "del Data_2024_cleaned; gc.collect()"
   ]
  },
  {
   "cell_type": "markdown",
   "id": "7a1d723e",
   "metadata": {},
   "source": [
    "## Combining All My Yearly Datasets\n",
    "To make the analysis easier and more insightful, I decided to combine all my individual yearly datasets into one master dataset. Instead of working with separate files for each year, this approach let me look at trends over time and run comparisons without jumping between files."
   ]
  },
  {
   "cell_type": "code",
   "execution_count": null,
   "id": "db5da315",
   "metadata": {},
   "outputs": [],
   "source": [
    "import matplotlib.pyplot as plt\n",
    "import seaborn as sns\n",
    "import dask.dataframe as dd\n",
    "from tabulate import tabulate\n",
    "import plotly.express as px\n",
    "import plotly.graph_objects as go"
   ]
  },
  {
   "cell_type": "code",
   "execution_count": null,
   "id": "61623c7d",
   "metadata": {},
   "outputs": [],
   "source": [
    "D_Data = dd.read_parquet(\"cleaned/*.parquet\", engine=\"pyarrow\", gather_statistics=False)"
   ]
  },
  {
   "cell_type": "code",
   "execution_count": null,
   "id": "2d8d18b8",
   "metadata": {},
   "outputs": [],
   "source": [
    "Final_Data = D_Data.repartition(npartitions = 30)"
   ]
  },
  {
   "cell_type": "markdown",
   "id": "d033a3a2",
   "metadata": {},
   "source": [
    "### Data Visualization, Analysis, and Answering Key Questions\n",
    "\n",
    "1. Which modes of transportation (DISAGMOT) accounted for the highest total shipping weight (SHIPWT) and value (VALUE) from 2020 to 2024?\n",
    "\n",
    "2. How did trade volume (by VALUE and SHIPWT) vary seasonally across different months (MONTH) and years (YEAR) between 2021 and 2022?\n",
    "\n",
    "3. Which U.S. states (USASTATE) contributed most to the volume and value of trade from 2020 to 2024?\n",
    "\n",
    "4. Which countries (COUNTRY) contributed most to the volume and value of trade from 2020 to 2024?\n",
    "\n",
    "5. What was the distribution of trade types (TRDTYPE) across domestic and foreign shipments (DF) from 2020 to 2024?\n",
    "\n",
    "6. How did container type (CONTCODE) usage vary by the top 2 mode of transportation (DISAGMOT) from 2020 to 2024?\n",
    "\n",
    "7. Were there any trends or changes in trade volume and value by year (YEAR) across different transportation modes (DISAGMOT) from 2020 to 2024?\n"
   ]
  },
  {
   "cell_type": "markdown",
   "id": "ab138a28",
   "metadata": {},
   "source": [
    "#### Answering the business Question. \n",
    "starting with question number 1."
   ]
  },
  {
   "cell_type": "code",
   "execution_count": null,
   "id": "bda87e57",
   "metadata": {},
   "outputs": [],
   "source": [
    "Final_Data[\"YEAR\"] = Final_Data[\"YEAR\"].astype(\"int64\")"
   ]
  },
  {
   "cell_type": "code",
   "execution_count": null,
   "id": "1eb8d48c",
   "metadata": {},
   "outputs": [],
   "source": [
    "Final_Data[\"DISAGMOT\"] = Final_Data[\"DISAGMOT\"].replace({\n",
    "    1: \"Vessel\",\n",
    "    3: \"Air\",\n",
    "    4: \"Mail (U.S. Postal Service)\",\n",
    "    5: \"Truck\",\n",
    "    6: \"Rail\",\n",
    "    7: \"Pipeline\",\n",
    "    8: \"Other\",\n",
    "    9: \"Foreign Trade Zones (FTZs)\"\n",
    "})"
   ]
  },
  {
   "cell_type": "code",
   "execution_count": null,
   "id": "cc22a4fb",
   "metadata": {},
   "outputs": [],
   "source": [
    "Final_Data[\"TRDTYPE\"] = Final_Data[\"TRDTYPE\"].replace({\n",
    "    1: \"Export\",\n",
    "    2: \"Import\"\n",
    "})"
   ]
  },
  {
   "cell_type": "code",
   "execution_count": null,
   "id": "25216cc3",
   "metadata": {},
   "outputs": [],
   "source": [
    "Final_Data[\"DF\"] = Final_Data[\"DF\"].replace({\n",
    "    1: \"Domestically Produced Merchandise\",\n",
    "    2: \"Foreign Produced Merchandise\"\n",
    "})"
   ]
  },
  {
   "cell_type": "code",
   "execution_count": null,
   "id": "569f0c95",
   "metadata": {},
   "outputs": [],
   "source": [
    "Final_Data[\"MONTH\"] = Final_Data[\"MONTH\"].replace({\n",
    "    1: \"January\",\n",
    "    2: \"February\",\n",
    "    3: \"March\",\n",
    "    4: \"April\",\n",
    "    5: \"May\",\n",
    "    6: \"June\",\n",
    "    7: \"July\",\n",
    "    8: \"August\",\n",
    "    9: \"September\",\n",
    "    10: \"October\",\n",
    "    11: \"November\",\n",
    "    12: \"December\"\n",
    "})"
   ]
  },
  {
   "cell_type": "code",
   "execution_count": null,
   "id": "a34b8a71",
   "metadata": {},
   "outputs": [],
   "source": [
    "df_filtered = Final_Data[Final_Data[\"YEAR\"].between(2020, 2024)]"
   ]
  },
  {
   "cell_type": "code",
   "execution_count": null,
   "id": "9fec74d7",
   "metadata": {},
   "outputs": [],
   "source": [
    "yearly_summary = df_filtered.groupby([\"YEAR\", \"DISAGMOT\"])[[\"SHIPWT\", \"VALUE\"]].sum().reset_index().compute()"
   ]
  },
  {
   "cell_type": "code",
   "execution_count": null,
   "id": "5fa16e9b",
   "metadata": {},
   "outputs": [],
   "source": [
    "top2_shipwt = yearly_summary.sort_values([\"YEAR\", \"SHIPWT\"], ascending=[True, False]).groupby(\"YEAR\").head(2)"
   ]
  },
  {
   "cell_type": "code",
   "execution_count": null,
   "id": "03f8a027",
   "metadata": {},
   "outputs": [],
   "source": [
    "top2_value = yearly_summary.sort_values([\"YEAR\", \"VALUE\"], ascending=[True, False]).groupby(\"YEAR\").head(2)"
   ]
  },
  {
   "cell_type": "code",
   "execution_count": null,
   "id": "d5f87ca3",
   "metadata": {},
   "outputs": [],
   "source": [
    "print(\"Top 2 Modes by Shipping Weight:\")\n",
    "print(top2_shipwt)"
   ]
  },
  {
   "cell_type": "code",
   "execution_count": null,
   "id": "336a0694",
   "metadata": {},
   "outputs": [],
   "source": [
    "print(\"\\nTop 2 Modes by Trade Value:\")\n",
    "print(top2_value)"
   ]
  },
  {
   "cell_type": "code",
   "execution_count": null,
   "id": "2092416d",
   "metadata": {},
   "outputs": [],
   "source": [
    "color_map = {\n",
    "    \"Vessel\": \"#E8988A\",\n",
    "    \"Air\": \"#ff7f0e\",\n",
    "    \"Mail\": \"#2ca02c\",\n",
    "    \"Truck\": \"#d62728\",\n",
    "    \"Rail\": \"#9467bd\",\n",
    "    \"Pipeline\": \"#FFEAD8\",\n",
    "    \"Other\": \"#e377c2\",\n",
    "    \"FTZs\": \"#7f7f7f\"\n",
    "}\n",
    "\n",
    "\n",
    "fig_shipwt = px.bar(\n",
    "    top2_shipwt,\n",
    "    x = \"DISAGMOT\",\n",
    "    y = \"SHIPWT\",\n",
    "    color = \"DISAGMOT\",\n",
    "    facet_col = \"YEAR\",\n",
    "    title = \"Top 2 Transportation Modes by Shipping Weight (2020–2024)\",\n",
    "    labels = {\"DISAGMOT\": \"Mode of Transport\", \"SHIPWT\": \"Total Shipping Weight\"},\n",
    "    text_auto = \".2s\",\n",
    "    facet_col_spacing = 0.08,\n",
    "    color_discrete_map = color_map\n",
    ")\n",
    "fig_shipwt.update_layout(\n",
    "    height = 500, \n",
    "    width = 1000,\n",
    "    showlegend = True,\n",
    "    yaxis=dict(\n",
    "        showticklabels=False\n",
    "    )\n",
    ")\n",
    "\n",
    "fig_shipwt.for_each_annotation(lambda a: a.update(text = a.text.split(\"=\")[-1])) \n",
    "fig_shipwt.show()\n"
   ]
  },
  {
   "cell_type": "code",
   "execution_count": null,
   "id": "659ba834",
   "metadata": {},
   "outputs": [],
   "source": [
    "color_map = {\n",
    "    \"Vessel\": \"#DB8DD0\",\n",
    "    \"Air\": \"#ff7f0e\",\n",
    "    \"Mail\": \"#2ca02c\",\n",
    "    \"Truck\": \"#DB8DD0\",\n",
    "    \"Rail\": \"#C562AF\",\n",
    "    \"Pipeline\": \"#8c564b\",\n",
    "    \"Other\": \"#e377c2\",\n",
    "    \"FTZs\": \"#7f7f7f\"\n",
    "}\n",
    "\n",
    "fig_value = px.bar(\n",
    "    top2_value,\n",
    "    x = \"DISAGMOT\",\n",
    "    y = \"VALUE\",\n",
    "    color = \"DISAGMOT\",\n",
    "    facet_col = \"YEAR\",\n",
    "    title = \"Top 2 Transportation Modes by Trade Value (2020–2024)\",\n",
    "    labels = {\"DISAGMOT\": \"Mode of Transport\", \"VALUE\": \"Total Trade Value\"},\n",
    "    text_auto = \".2s\",\n",
    "    facet_col_spacing = 0.08,\n",
    "    color_discrete_map = color_map\n",
    ")\n",
    "fig_value.update_layout(\n",
    "    xaxis_tickangle = -45,\n",
    "    height = 500,\n",
    "    width = 1000,\n",
    "    showlegend = True,\n",
    "    yaxis = dict(\n",
    "        showticklabels = False\n",
    "    )\n",
    ")\n",
    "fig_value.for_each_annotation(lambda a: a.update(text = a.text.split(\"=\")[-1]))\n",
    "fig_value.show()\n"
   ]
  },
  {
   "cell_type": "markdown",
   "id": "f8f089c6",
   "metadata": {},
   "source": [
    "#### Conclusion \n",
    "\n",
    "- Rail and Truck transport modes consistently accounted for the highest total shipping weight and trade value over the 5 year period.\n",
    "\n",
    "- These modes represent the backbone of freight movement, reflecting infrastructure and economic priorities."
   ]
  },
  {
   "cell_type": "markdown",
   "id": "7367ff69",
   "metadata": {},
   "source": [
    "### Answering Q2 "
   ]
  },
  {
   "cell_type": "code",
   "execution_count": null,
   "id": "c96fc8f2",
   "metadata": {},
   "outputs": [],
   "source": [
    "# df_filtered = Final_Data[Final_Data[\"YEAR\"].between(2020, 2024)]"
   ]
  },
  {
   "cell_type": "code",
   "execution_count": null,
   "id": "397aa73b",
   "metadata": {},
   "outputs": [],
   "source": [
    "df_filtered = Final_Data[Final_Data[\"YEAR\"].isin([2021, 2022])]"
   ]
  },
  {
   "cell_type": "code",
   "execution_count": null,
   "id": "16a7c05b",
   "metadata": {},
   "outputs": [],
   "source": [
    "monthly_summary = df_filtered.groupby([\"YEAR\", \"MONTH\"])[[\"SHIPWT\", \"VALUE\"]].sum().reset_index()\n",
    "monthly_summary = monthly_summary.compute()"
   ]
  },
  {
   "cell_type": "code",
   "execution_count": null,
   "id": "9809229d",
   "metadata": {},
   "outputs": [],
   "source": [
    "pivot_value = monthly_summary.pivot(index = \"MONTH\", columns = \"YEAR\", values = \"VALUE\")\n",
    "pivot_shipwt = monthly_summary.pivot(index = \"MONTH\", columns = \"YEAR\", values = \"SHIPWT\")"
   ]
  },
  {
   "cell_type": "code",
   "execution_count": null,
   "id": "cc07cdfd",
   "metadata": {},
   "outputs": [],
   "source": [
    "print(monthly_summary[\"YEAR\"].unique())"
   ]
  },
  {
   "cell_type": "code",
   "execution_count": null,
   "id": "827cda0f",
   "metadata": {},
   "outputs": [],
   "source": [
    "monthly_summary[\"YEAR\"] = monthly_summary[\"YEAR\"].astype(str)\n",
    "\n",
    "custom_colors = {\n",
    "    \"2021\": \"#58A0C8\",\n",
    "    \"2022\": \"#113F67\"\n",
    "}\n",
    "\n",
    "month_order = [\n",
    "    \"January\", \"February\", \"March\", \"April\", \"May\", \"June\",\n",
    "    \"July\", \"August\", \"September\", \"October\", \"November\", \"December\"\n",
    "]\n",
    "\n",
    "\n",
    "\n",
    "fig = px.bar(\n",
    "    monthly_summary,\n",
    "    x = \"MONTH\",\n",
    "    y = \"VALUE\",\n",
    "    color = \"YEAR\",\n",
    "    barmode = \"group\",\n",
    "    title = \"Seasonal Trade Value Trends (2021 & 2022)\",\n",
    "    category_orders = {\"MONTH\": month_order},\n",
    "    color_discrete_map = custom_colors,\n",
    "    text_auto = \".2s\"\n",
    ")\n",
    "\n",
    "fig.update_layout(\n",
    "    xaxis_tickangle = -45,\n",
    "    height = 500,\n",
    "    width = 1000,\n",
    "    showlegend = True,\n",
    "    yaxis = dict(\n",
    "        showticklabels = False)\n",
    ")\n",
    "\n",
    "fig.show()\n"
   ]
  },
  {
   "cell_type": "code",
   "execution_count": null,
   "id": "cda27dfc",
   "metadata": {},
   "outputs": [],
   "source": [
    "monthly_summary[\"YEAR\"] = monthly_summary[\"YEAR\"].astype(str)\n",
    "\n",
    "custom_colors = {\n",
    "    \"2021\": \"#ECFAE5\",\n",
    "    \"2022\": \"#B0DB9C\",\n",
    "}\n",
    "\n",
    "month_order = [\n",
    "    \"January\", \"February\", \"March\", \"April\", \"May\", \"June\",\n",
    "    \"July\", \"August\", \"September\", \"October\", \"November\", \"December\"\n",
    "]\n",
    "\n",
    "fig2 = px.bar(\n",
    "    monthly_summary,\n",
    "    x = \"MONTH\",\n",
    "    y  = \"SHIPWT\",\n",
    "    color = \"YEAR\",\n",
    "    barmode = \"group\",\n",
    "    title = \"Seasonal Shipping Weight Trends (2021 & 2022)\",\n",
    "    category_orders = {\"MONTH\": month_order},\n",
    "    color_discrete_map = custom_colors,\n",
    "    text_auto = \".2s\"\n",
    ")\n",
    "fig2.update_layout(\n",
    "    xaxis_tickangle = -45,\n",
    "    height = 500,\n",
    "    width = 1000,\n",
    "    showlegend = True,\n",
    "    yaxis = dict(\n",
    "        showticklabels = False)\n",
    ")\n",
    "\n",
    "fig2.show()"
   ]
  },
  {
   "cell_type": "markdown",
   "id": "8e53bd08",
   "metadata": {},
   "source": [
    "#### Conclusion \n",
    "\n",
    "- Trade volume and value were relatively high in month 1 (January) month but declined as the month progressed to month 12 (December)\n",
    "\n",
    "- Patterns were consistent across years 2020 to 2024, indicating regular business cycles and seasonal demand fluctuations."
   ]
  },
  {
   "cell_type": "markdown",
   "id": "4dfbd698",
   "metadata": {},
   "source": [
    "### Q3 and Q4"
   ]
  },
  {
   "cell_type": "code",
   "execution_count": null,
   "id": "bcbad162",
   "metadata": {},
   "outputs": [],
   "source": [
    "df_filtered = Final_Data[Final_Data[\"YEAR\"].between(2020, 2024)]"
   ]
  },
  {
   "cell_type": "code",
   "execution_count": null,
   "id": "00c3eaa6",
   "metadata": {},
   "outputs": [],
   "source": [
    "df_filtered[\"USASTATE\"] = df_filtered[\"USASTATE\"].map_partitions(lambda df_part: df_part.replace({\"MI\": \"FL\"}))"
   ]
  },
  {
   "cell_type": "code",
   "execution_count": null,
   "id": "a5de42e0",
   "metadata": {},
   "outputs": [],
   "source": [
    "usastate_group = df_filtered.groupby([\"YEAR\", \"USASTATE\"])[[\"SHIPWT\", \"VALUE\"]].sum().reset_index()\n",
    "grouped_countries  = df_filtered.groupby([\"YEAR\", \"COUNTRY\"])[[\"SHIPWT\", \"VALUE\"]].sum().reset_index()"
   ]
  },
  {
   "cell_type": "code",
   "execution_count": null,
   "id": "1fbcf3fc",
   "metadata": {},
   "outputs": [],
   "source": [
    "grouped_states  = usastate_group.compute()\n",
    "grouped_countries = grouped_countries.compute()"
   ]
  },
  {
   "cell_type": "code",
   "execution_count": null,
   "id": "1d350694",
   "metadata": {},
   "outputs": [],
   "source": [
    "grouped_countries[\"COUNTRY\"] = grouped_countries[\"COUNTRY\"].replace({1220: \"Canada\", 2010: \"Mexico\"})"
   ]
  },
  {
   "cell_type": "code",
   "execution_count": null,
   "id": "b3067c94",
   "metadata": {},
   "outputs": [],
   "source": [
    "top_countries_by_shipwt = (\n",
    "    grouped_countries.sort_values([\"YEAR\", \"SHIPWT\"], ascending=[True, False])\n",
    "    .groupby(\"YEAR\")\n",
    "    .head(2)\n",
    ")"
   ]
  },
  {
   "cell_type": "code",
   "execution_count": null,
   "id": "86faf682",
   "metadata": {},
   "outputs": [],
   "source": [
    "top_countries_by_value = (\n",
    "    grouped_countries.sort_values([\"YEAR\", \"VALUE\"], ascending=[True, False])\n",
    "    .groupby(\"YEAR\")\n",
    "    .head(2)\n",
    ")"
   ]
  },
  {
   "cell_type": "code",
   "execution_count": null,
   "id": "f863fcaa",
   "metadata": {},
   "outputs": [],
   "source": [
    "top2_states_by_value = (\n",
    "    grouped_states.sort_values([\"YEAR\", \"VALUE\"], ascending=[True, False])\n",
    "    .groupby(\"YEAR\")\n",
    "    .head(2)\n",
    ")"
   ]
  },
  {
   "cell_type": "code",
   "execution_count": null,
   "id": "bde85605",
   "metadata": {},
   "outputs": [],
   "source": [
    "top2_states_by_shipwt = (\n",
    "    grouped_states.sort_values([\"YEAR\", \"VALUE\"], ascending=[True, False])\n",
    "    .groupby(\"YEAR\")\n",
    "    .head(2)\n",
    ")"
   ]
  },
  {
   "cell_type": "code",
   "execution_count": null,
   "id": "d7833c7d",
   "metadata": {},
   "outputs": [],
   "source": [
    "print(top2_states_by_value[\"USASTATE\"].unique())\n",
    "print(top2_states_by_shipwt[\"USASTATE\"].unique())"
   ]
  },
  {
   "cell_type": "code",
   "execution_count": null,
   "id": "a1972bda",
   "metadata": {},
   "outputs": [],
   "source": [
    "custom_colors = {\n",
    "    \"CA\": \"#F564A9\",\n",
    "    \"TX\": \"#98A1BC\",\n",
    "    \"FL\": \"#DED3C4\",\n",
    "    \"NY\": \"#264653\",\n",
    "    \"IL\": \"#670D2F\"\n",
    "}\n",
    "\n",
    "\n",
    "fig_shipwt = px.bar(\n",
    "    top2_states_by_shipwt,\n",
    "    x = \"YEAR\",\n",
    "    y = \"SHIPWT\",\n",
    "    color = \"USASTATE\",\n",
    "    barmode = \"group\",\n",
    "    title = \"Top 2 States by Shipping Weight (2020–2024)\",\n",
    "    text = \"SHIPWT\",\n",
    "    color_discrete_map = custom_colors\n",
    ")\n",
    "\n",
    "fig_shipwt.update_layout(\n",
    "    legend_title_text = \"US State\", \n",
    "    height = 500,\n",
    "    yaxis = dict(\n",
    "        showticklabels = False)\n",
    ")\n",
    "fig_shipwt.update_traces(texttemplate='%{text:.2s}', textposition='outside')\n",
    "\n",
    "fig_shipwt.show()\n",
    "\n",
    "fig_value = px.bar(\n",
    "    top2_states_by_value,\n",
    "    x = \"YEAR\",\n",
    "    y = \"VALUE\",\n",
    "    color = \"USASTATE\",\n",
    "    barmode = \"group\",\n",
    "    title = \"Top 2 States by Trade Value (2020–2024)\",\n",
    "    text = \"VALUE\",\n",
    "    color_discrete_map = custom_colors\n",
    ")\n",
    "fig_value.update_layout(\n",
    "    legend_title_text = \"US State\", \n",
    "    height = 500,\n",
    "    yaxis = dict(\n",
    "        showticklabels = False)\n",
    ")\n",
    "\n",
    "fig_value.update_traces(texttemplate='%{text:.2s}', textposition='outside')\n",
    "\n",
    "fig_value.show()\n"
   ]
  },
  {
   "cell_type": "code",
   "execution_count": null,
   "id": "4b761e1c",
   "metadata": {},
   "outputs": [],
   "source": [
    "custom_colors = {\n",
    "    \"Canada\": \"#78B9B5\",\n",
    "    \"Mexico\": \"#0F828C\",\n",
    "    \"China\": \"#B2CD9C\",\n",
    "    \"Germany\": \"#F0F2BD\",\n",
    "    \"Japan\": \"#FFE1E0\",\n",
    "}\n",
    "\n",
    "fig1 = px.bar(\n",
    "    top_countries_by_shipwt,\n",
    "    x = \"YEAR\",\n",
    "    y = \"SHIPWT\",\n",
    "    color = \"COUNTRY\",\n",
    "    barmode = \"group\",\n",
    "    title = \"Top 2 Countries by Shipping Weight (2020–2024)\",\n",
    "    text = \"SHIPWT\",\n",
    "    color_discrete_map = custom_colors\n",
    ")\n",
    "fig1.update_layout(\n",
    "    legend_title_text = \"Country\", \n",
    "    height = 500,\n",
    "    width = 700,\n",
    "    yaxis = dict(\n",
    "        showticklabels = False)\n",
    ")\n",
    "\n",
    "fig1.update_traces(texttemplate = \"%{text:.2s}\")\n",
    "\n",
    "fig1.show()\n",
    "\n",
    "fig2 = px.bar(\n",
    "    top_countries_by_value,\n",
    "    x = \"YEAR\",\n",
    "    y = \"VALUE\",\n",
    "    color = \"COUNTRY\",\n",
    "    barmode = \"group\",\n",
    "    title = \"Top 2 Countries by Trade Value (2020–2024)\",\n",
    "    text = \"VALUE\",\n",
    "    color_discrete_map = custom_colors\n",
    ")\n",
    "\n",
    "fig2.update_layout(\n",
    "    legend_title_text = \"Country\", \n",
    "    height = 500,\n",
    "    width = 700, \n",
    "    yaxis = dict(\n",
    "        showticklabels = False)\n",
    "\n",
    ")\n",
    "\n",
    "fig2.update_traces(texttemplate = \"%{text:.2s}\")\n",
    "                     \n",
    "fig2.show()"
   ]
  },
  {
   "cell_type": "markdown",
   "id": "206a7b04",
   "metadata": {},
   "source": [
    "#### Conclusion \n",
    "\n",
    "- Texas contributed most to trade volume and value from 2020 to 2022 and started declining after.\n",
    "\n",
    "- Internationally, trade was almost exclusively with Canada and Mexico, reflecting strong land-border commerce ties."
   ]
  },
  {
   "cell_type": "markdown",
   "id": "050138da",
   "metadata": {},
   "source": [
    "### Q5"
   ]
  },
  {
   "cell_type": "code",
   "execution_count": null,
   "id": "bf2a05ac",
   "metadata": {},
   "outputs": [],
   "source": [
    "df_filtered = Final_Data[Final_Data[\"YEAR\"].isin([2021, 2022])]"
   ]
  },
  {
   "cell_type": "code",
   "execution_count": null,
   "id": "b5b61d9d",
   "metadata": {},
   "outputs": [],
   "source": [
    "trdtype_df_summary = df_filtered.groupby([\"YEAR\", \"DF\", \"TRDTYPE\"]).size().reset_index()"
   ]
  },
  {
   "cell_type": "code",
   "execution_count": null,
   "id": "4cba6e52",
   "metadata": {},
   "outputs": [],
   "source": [
    "trdtype_df_summary = trdtype_df_summary.compute()\n",
    "trdtype_df_summary.columns = [\"YEAR\", \"DF\", \"TRDTYPE\", \"COUNT\"]"
   ]
  },
  {
   "cell_type": "code",
   "execution_count": null,
   "id": "8591fcfa",
   "metadata": {},
   "outputs": [],
   "source": [
    "trdtype_df_summary[\"TRDTYPE\"] = trdtype_df_summary[\"TRDTYPE\"].replace({1: \"Export\", 2: \"Import\"})"
   ]
  },
  {
   "cell_type": "code",
   "execution_count": null,
   "id": "4bb76bec",
   "metadata": {},
   "outputs": [],
   "source": [
    "trdtype_df_summary[\"PERCENT\"] = trdtype_df_summary.groupby([\"YEAR\", \"TRDTYPE\"])[\"COUNT\"].transform(\n",
    "    lambda x: x / x.sum() * 100\n",
    ")\n",
    "\n",
    "custom_colors = {\n",
    "    \"Domestically Produced Merchandise\": \"#58A0C8\",\n",
    "    \"Foreign Produced Merchandise\": \"#113F67\"\n",
    "}\n",
    "\n",
    "\n",
    "fig = px.bar(\n",
    "    trdtype_df_summary,\n",
    "    x  = \"TRDTYPE\",\n",
    "    y = \"PERCENT\",\n",
    "    color = \"DF\",\n",
    "    barmode = \"group\",\n",
    "    facet_col = \"YEAR\",\n",
    "    category_orders = {\"YEAR\": sorted(trdtype_df_summary[\"YEAR\"].unique())},\n",
    "    title = \"Percentage Distribution of Trade Types by Domestic/Foreign (between 2021 & 2022)\",\n",
    "    labels = {\n",
    "        \"TRDTYPE\": \"Trade Type\", \n",
    "        \"PERCENT\": \"Percentage (%)\", \n",
    "        \"DF\": \"Domestic/Foreign\"\n",
    "    },\n",
    "    text_auto = \".1f\",\n",
    "    color_discrete_map = custom_colors\n",
    "    \n",
    ")\n",
    "\n",
    "fig.update_layout(\n",
    "    height = 500, \n",
    "    width = 700,\n",
    "    yaxis = dict(\n",
    "        showticklabels = False\n",
    "    )\n",
    ")\n",
    "\n",
    "fig.for_each_annotation(lambda a: a.update(text = a.text.split(\"=\")[-1]))\n",
    "\n",
    "fig.show()"
   ]
  },
  {
   "cell_type": "markdown",
   "id": "3993be55",
   "metadata": {},
   "source": [
    "#### Conclusion \n",
    "\n",
    "- Imports and exports showed distinct patterns across years, with domestic shipments dominating volume but foreign shipments accounting for significant trade value\n",
    "\n",
    "- In the year 2022 foreign import was relatively high as compared to the other years."
   ]
  },
  {
   "cell_type": "markdown",
   "id": "9f99c64f",
   "metadata": {},
   "source": [
    "Q6"
   ]
  },
  {
   "cell_type": "code",
   "execution_count": null,
   "id": "5c1f8275",
   "metadata": {},
   "outputs": [],
   "source": [
    "df_filtered = Final_Data[Final_Data[\"YEAR\"].isin([2021, 2023])]"
   ]
  },
  {
   "cell_type": "code",
   "execution_count": null,
   "id": "d725488f",
   "metadata": {},
   "outputs": [],
   "source": [
    "# contcode_counts = df_filtered[\"CONTCODE\"].value_counts().compute()\n",
    "\n",
    "# print(contcode_counts)"
   ]
  },
  {
   "cell_type": "code",
   "execution_count": null,
   "id": "c8717c0f",
   "metadata": {},
   "outputs": [],
   "source": [
    "container_mode_summary = df_filtered.groupby([\"YEAR\", \"DISAGMOT\", \"CONTCODE\"]).size().compute().reset_index(name = \"COUNT\")"
   ]
  },
  {
   "cell_type": "code",
   "execution_count": null,
   "id": "ae234b60",
   "metadata": {},
   "outputs": [],
   "source": [
    "container_mode_summary[\"CONTCODE\"] = container_mode_summary[\"CONTCODE\"].astype(str)"
   ]
  },
  {
   "cell_type": "code",
   "execution_count": null,
   "id": "8df4fdd0",
   "metadata": {},
   "outputs": [],
   "source": [
    "sorted_df = container_mode_summary.sort_values([\"YEAR\", \"CONTCODE\", \"COUNT\"], ascending = [True, True, False])"
   ]
  },
  {
   "cell_type": "code",
   "execution_count": null,
   "id": "360a8df9",
   "metadata": {},
   "outputs": [],
   "source": [
    "top2_transport_mode = sorted_df.groupby([\"YEAR\", \"CONTCODE\"]).head(2)"
   ]
  },
  {
   "cell_type": "code",
   "execution_count": null,
   "id": "54e68cd8",
   "metadata": {},
   "outputs": [],
   "source": [
    "top2_transport_mode[\"CONTCODE\"] = top2_transport_mode[\"CONTCODE\"].replace({\n",
    "    \"X\": \"Containerized\",\n",
    "    \"0\": \"Non-Containerized\"\n",
    "})"
   ]
  },
  {
   "cell_type": "code",
   "execution_count": null,
   "id": "19e147fc",
   "metadata": {},
   "outputs": [],
   "source": [
    "print(top2_transport_mode)"
   ]
  },
  {
   "cell_type": "code",
   "execution_count": null,
   "id": "5ae45cbe",
   "metadata": {},
   "outputs": [],
   "source": [
    "color_map = {\n",
    "    \"Vessel\": \"#ff7f0e\",\n",
    "    \"Air\": \"#3E5F44\",\n",
    "    \"Mail\": \"#2ca02c\",\n",
    "    \"Truck\": \"#5E936C\",\n",
    "    \"Rail\": \"#DB8DD0\",\n",
    "    \"Pipeline\": \"#8c564b\",\n",
    "    \"Other\": \"#e377c2\",\n",
    "    \"FTZs\": \"#7f7f7f\"\n",
    "}\n",
    "\n",
    "fig = px.bar(\n",
    "    top2_transport_mode,\n",
    "    x = \"CONTCODE\",\n",
    "    y = \"COUNT\",\n",
    "    color = \"DISAGMOT\",\n",
    "    barmode = \"group\",\n",
    "    facet_col = \"YEAR\",\n",
    "    category_orders = {\"YEAR\": sorted(top2_transport_mode[\"YEAR\"].unique())},\n",
    "    title = \"Container Type Usage by Mode of Transportation (2020 &2023)\",\n",
    "    labels = {\n",
    "        \"CONTCODE\": \"Container Type\",\n",
    "        \"COUNT\": \"Number of Shipments\",\n",
    "        \"DISAGMOT\": \"Mode of Transportation\",\n",
    "    },\n",
    "    text = \"COUNT\",\n",
    "    color_discrete_map = color_map\n",
    ")\n",
    "\n",
    "fig.update_layout(\n",
    "    xaxis = {'categoryorder':'category ascending'},\n",
    "    height = 500,\n",
    "    width = 700,\n",
    "    yaxis = dict(\n",
    "        showticklabels = False\n",
    "    )\n",
    ")\n",
    "\n",
    "fig.for_each_annotation(lambda a: a.update(text = a.text.split(\"=\")[-1]))\n",
    "\n",
    "fig.update_traces(texttemplate='%{text:.2s}', textposition='inside')\n",
    "\n",
    "fig.show()"
   ]
  },
  {
   "cell_type": "markdown",
   "id": "f45bca84",
   "metadata": {},
   "source": [
    "#### Conclusion  \n",
    "\n",
    "- Truck and air mode of transport used a diverse range of container types.\n",
    "\n",
    "- Truck transport showed concentrated use of specific container codes.\n",
    "\n",
    "- There was a visibily differences in container usage from year 2022 to 2024"
   ]
  },
  {
   "cell_type": "markdown",
   "id": "5baaecf8",
   "metadata": {},
   "source": [
    "### Q7"
   ]
  },
  {
   "cell_type": "code",
   "execution_count": null,
   "id": "70c44d0c",
   "metadata": {},
   "outputs": [],
   "source": [
    "df_filtered = Final_Data[Final_Data[\"YEAR\"].isin([2020, 2023])]"
   ]
  },
  {
   "cell_type": "code",
   "execution_count": null,
   "id": "fce2386d",
   "metadata": {},
   "outputs": [],
   "source": [
    "yearly_mode_summary = df_filtered.groupby([\"YEAR\", \"DISAGMOT\"])[[\"SHIPWT\", \"VALUE\"]].sum().compute().reset_index()"
   ]
  },
  {
   "cell_type": "code",
   "execution_count": null,
   "id": "cafb6830",
   "metadata": {},
   "outputs": [],
   "source": [
    "top2_transport_mode_by_shipwt = (\n",
    "    yearly_mode_summary.sort_values([\"YEAR\", \"VALUE\"], ascending=[True, False])\n",
    "    .groupby(\"YEAR\")\n",
    "    .head(2)\n",
    ")"
   ]
  },
  {
   "cell_type": "code",
   "execution_count": null,
   "id": "8a996fff",
   "metadata": {},
   "outputs": [],
   "source": [
    "top2_transport_mode_by_value = (\n",
    "    yearly_mode_summary.sort_values([\"YEAR\", \"VALUE\"], ascending=[True, False])\n",
    "    .groupby(\"YEAR\")\n",
    "    .head(2)\n",
    ")"
   ]
  },
  {
   "cell_type": "code",
   "execution_count": null,
   "id": "231b41c6",
   "metadata": {},
   "outputs": [],
   "source": [
    "color_map = {\n",
    "    \"Vessel\": \"#ff7f0e\",\n",
    "    \"Air\": \"#DB8DD0\",\n",
    "    \"Mail\": \"#2ca02c\",\n",
    "    \"Truck\": \"#7A7A73\",\n",
    "    \"Rail\": \"#57564F\",\n",
    "    \"Pipeline\": \"#8c564b\",\n",
    "    \"Other\": \"#e377c2\",\n",
    "    \"FTZs\": \"#7f7f7f\"\n",
    "}\n",
    "\n",
    "\n",
    "fig_weight = px.line(\n",
    "    top2_transport_mode_by_shipwt,\n",
    "    x = \"YEAR\",\n",
    "    y = \"SHIPWT\",\n",
    "    color = \"DISAGMOT\",\n",
    "    title = \"Trade Volume (Shipping Weight) by Transportation Mode (2020 & 2023)\",\n",
    "    markers = True,\n",
    "    labels = {\"SHIPWT\": \"Total Shipping Weight\", \"YEAR\": \"Year\", \"DISAGMOT\": \"Transportation Mode\"},\n",
    "    color_discrete_map = color_map\n",
    "    \n",
    ")\n",
    "fig_weight.show()\n",
    "\n",
    "\n",
    "fig_value = px.line(\n",
    "    top2_transport_mode_by_value,\n",
    "    x=\"YEAR\",\n",
    "    y=\"VALUE\",\n",
    "    color=\"DISAGMOT\",\n",
    "    title=\"Trade Value by Transportation Mode (2020 & 2023)\",\n",
    "    markers=True,\n",
    "    labels={\"VALUE\": \"Total Trade Value\", \"YEAR\": \"Year\", \"DISAGMOT\": \"Transportation Mode\"},\n",
    "    color_discrete_map = color_map\n",
    ")\n",
    "fig_value.show()\n"
   ]
  },
  {
   "cell_type": "markdown",
   "id": "1751f359",
   "metadata": {},
   "source": [
    "#### Conclusion \n",
    "\n",
    "- From 2020 to 2024, overall trade volume and value fluctuated, showing recovery after pandemic-related disruptions.\n",
    "\n",
    "- Modes like rail and truck transport showed steady growth, while air freight experienced more volatility"
   ]
  }
 ],
 "metadata": {
  "kernelspec": {
   "display_name": "Python 3",
   "language": "python",
   "name": "python3"
  },
  "language_info": {
   "codemirror_mode": {
    "name": "ipython",
    "version": 3
   },
   "file_extension": ".py",
   "mimetype": "text/x-python",
   "name": "python",
   "nbconvert_exporter": "python",
   "pygments_lexer": "ipython3",
   "version": "3.11.5"
  }
 },
 "nbformat": 4,
 "nbformat_minor": 5
}
